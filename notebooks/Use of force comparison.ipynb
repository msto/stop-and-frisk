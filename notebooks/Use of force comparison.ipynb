{
 "cells": [
  {
   "cell_type": "markdown",
   "metadata": {},
   "source": [
    "# Stop and frisk under Mayor Bloomberg &mdash; Comparison of use-of-force\n",
    "\n",
    "## Imports and dependencies\n",
    "\n",
    "This notebook was written for Python3. It requires [Pandas](https://pandas.pydata.org/), [Matplotlib](https://matplotlib.org/), and [Seaborn](https://seaborn.pydata.org/).\n",
    "\n",
    "All packages are available via conda:\n",
    "\n",
    "```\n",
    "$ conda install pandas seaborn matplotlib\n",
    "```"
   ]
  },
  {
   "cell_type": "code",
   "execution_count": 1,
   "metadata": {},
   "outputs": [],
   "source": [
    "%matplotlib inline\n",
    "\n",
    "import os\n",
    "import pandas as pd\n",
    "import seaborn as sns\n",
    "import matplotlib.pyplot as plt\n",
    "\n",
    "sns.set_style('whitegrid')\n",
    "sns.set_palette('colorblind')\n",
    "\n",
    "os.chdir('/Users/msto/projects/stop-and-frisk')"
   ]
  },
  {
   "cell_type": "markdown",
   "metadata": {},
   "source": [
    "## Data cleaning"
   ]
  },
  {
   "cell_type": "markdown",
   "metadata": {},
   "source": [
    "The `Race` and `Date` columns were previously cleaned in the Stop and frisk animation notebook. We'll load those saved results here."
   ]
  },
  {
   "cell_type": "code",
   "execution_count": 2,
   "metadata": {},
   "outputs": [
    {
     "name": "stderr",
     "output_type": "stream",
     "text": [
      "/Users/msto/.miniconda3/envs/py36/lib/python3.6/site-packages/IPython/core/interactiveshell.py:3020: DtypeWarning: Columns (3,4,5,7,10,17,21,73,74,81,89,93,94,95,96,97,99,103,104,105,108,112,113,118,119,120,121,123,124) have mixed types. Specify dtype option on import or set low_memory=False.\n",
      "  interactivity=interactivity, compiler=compiler, result=result)\n"
     ]
    }
   ],
   "source": [
    "df = pd.read_csv('data/sqf.csv.gz')\n",
    "df['Date'] = pd.to_datetime(df.Date)"
   ]
  },
  {
   "cell_type": "markdown",
   "metadata": {},
   "source": [
    "There's no single column indicating whether force was used, but there are multiple boolean columns indicating whether the officer gave a reason that they used force. If any of these reasons are true, we'll say that the stop resulted in a use of force."
   ]
  },
  {
   "cell_type": "code",
   "execution_count": 3,
   "metadata": {},
   "outputs": [],
   "source": [
    "force_cols = [c for c in df.columns if c.startswith(\"pf_\")]\n",
    "df['Used_force'] = (df[force_cols] == 'Y').any(axis=1)"
   ]
  },
  {
   "cell_type": "markdown",
   "metadata": {},
   "source": [
    "We'll bin the ages of each person stopped into ten year windows."
   ]
  },
  {
   "cell_type": "code",
   "execution_count": 4,
   "metadata": {},
   "outputs": [],
   "source": [
    "def get_age_range(age):\n",
    "    if age < 15:\n",
    "        return 'Under 15'\n",
    "    elif age < 25:\n",
    "        return '15-24'\n",
    "    elif age < 35:\n",
    "        return '25-34'\n",
    "    elif age < 45:\n",
    "        return '35-44'\n",
    "    elif age < 55:\n",
    "        return '45-54'\n",
    "    else:\n",
    "        return 'Over 55'\n",
    "\n",
    "df['age_range'] = df.age.apply(get_age_range)"
   ]
  },
  {
   "cell_type": "markdown",
   "metadata": {},
   "source": [
    "And we'll load the size of each demographic by the same ten year windows, obtained from [Baruch College](https://www.baruch.cuny.edu/nycdata/population-geography/pop-demography.htm)."
   ]
  },
  {
   "cell_type": "code",
   "execution_count": 5,
   "metadata": {},
   "outputs": [],
   "source": [
    "pop = pd.read_csv('data/baruch/2016_male_pop_by_age_condensed.csv')\n",
    "\n",
    "age_ranges = pop.age_range\n",
    "races = ['WHITE', 'BLACK', 'HISPANIC']\n",
    "\n",
    "pop = pd.melt(pop, id_vars=['age_range'], value_vars=races, \n",
    "              var_name='Race', value_name='Pop')\\\n",
    "        .set_index(['Race', 'age_range']).Pop"
   ]
  },
  {
   "cell_type": "markdown",
   "metadata": {},
   "source": [
    "## Comparing use of force across race and age demographics"
   ]
  },
  {
   "cell_type": "markdown",
   "metadata": {},
   "source": [
    "We'll select all the stops that resulted in NYPD use of force, group by race and age window, and count them."
   ]
  },
  {
   "cell_type": "code",
   "execution_count": 6,
   "metadata": {},
   "outputs": [],
   "source": [
    "idx = pd.MultiIndex.from_product(iterables=[races, age_ranges], names=['Race', 'age_range']) \n",
    "\n",
    "force = df.loc[df.Used_force]\\\n",
    "          .groupby(['Race', 'age_range'])\\\n",
    "          .size()\\\n",
    "          .reindex(idx)\\\n",
    "          .fillna(0)\\\n",
    "          .astype(int)"
   ]
  },
  {
   "cell_type": "markdown",
   "metadata": {},
   "source": [
    "And we'll compute these counts as a percentage of the total number of people in NYC (as of 2016) of the same race and in the same age window."
   ]
  },
  {
   "cell_type": "code",
   "execution_count": 7,
   "metadata": {},
   "outputs": [],
   "source": [
    "pct_force = (force / pop).rename('Pct').reset_index()"
   ]
  },
  {
   "cell_type": "markdown",
   "metadata": {},
   "source": [
    "Then we plot a simple bar chart to compare"
   ]
  },
  {
   "cell_type": "code",
   "execution_count": 8,
   "metadata": {},
   "outputs": [
    {
     "data": {
      "image/png": "[encoded data removed]",
      "text/plain": [
       "<Figure size 576x432 with 1 Axes>"
      ]
     },
     "metadata": {
      "needs_background": "light"
     },
     "output_type": "display_data"
    }
   ],
   "source": [
    "fig, ax = plt.subplots(1, 1, figsize=(8, 6))\n",
    "ax = sns.barplot(data=pct_force, y='Pct',\n",
    "                 x='age_range', order=age_ranges,\n",
    "                 hue='Race', hue_order=races)\n",
    "\n",
    "# Clean up y-axis\n",
    "ax.set_yticks(np.arange(0, 3, 0.5))\n",
    "ax.set_yticklabels(['{0}%'.format(p) for p in range(0, 300, 50)])\n",
    "\n",
    "# Labels\n",
    "ax.set_xlabel(\"Age range\", fontsize=12)\n",
    "ax.set_ylabel(\"Percentage of 2016 male NYers\", fontsize=12)\n",
    "ax.set_title(\"Male New Yorkers who experienced stop and NYPD force\\n\"\n",
    "             \"during 11 years of Mayor Bloomberg's stop-and-frisk\", fontsize=14)\n",
    "\n",
    "# Citation\n",
    "ax.text(1.0325, 0, 'github.com/msto/stop-and-frisk', \n",
    "        rotation=270,\n",
    "        ha='right', va='bottom', fontsize=13,\n",
    "        fontname='Source Code Pro', transform=ax.transAxes)\n",
    "\n",
    "plt.savefig('figures/use_of_force_comparison.png', bbox_inches='tight')"
   ]
  }
 ],
 "metadata": {
  "kernelspec": {
   "display_name": "Python 3",
   "language": "python",
   "name": "python3"
  },
  "language_info": {
   "codemirror_mode": {
    "name": "ipython",
    "version": 3
   },
   "file_extension": ".py",
   "mimetype": "text/x-python",
   "name": "python",
   "nbconvert_exporter": "python",
   "pygments_lexer": "ipython3",
   "version": "3.6.8"
  }
 },
 "nbformat": 4,
 "nbformat_minor": 2
}
